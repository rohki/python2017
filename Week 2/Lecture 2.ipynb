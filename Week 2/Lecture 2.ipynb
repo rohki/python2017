{
 "cells": [
  {
   "cell_type": "markdown",
   "metadata": {},
   "source": [
    "# Introduction to Programming - Lecture 2"
   ]
  },
  {
   "cell_type": "markdown",
   "metadata": {},
   "source": [
    "### Agenda for the class\n",
    "0. Linux terminal Basics (~20 minutes)\n",
    "1. Lists (~15 minutes)\n",
    "    - List functions such as append etc.\n",
    "    - Mutability\n",
    "    - Slicing/len()\n",
    "    - nested lists\n",
    "3. Basic Input and Output (5-10 minutes) \n",
    "4. Creating a small program (Remaining time) "
   ]
  },
  {
   "cell_type": "markdown",
   "metadata": {},
   "source": [
    "## Lists\n",
    "1. A default python datatype.\n",
    "2. Strings and lists have some similar features, like length, indexing of elements etc.\n",
    "3. Basic differences from strings are\n",
    "    - Mutability: Lists are mutable whereas strings are not. This basically means we can make changes to lists after initiailizing but we can't do that in strings.\n",
    "    - Lists can have multiple datatypes within them."
   ]
  },
  {
   "cell_type": "code",
   "execution_count": null,
   "metadata": {
    "collapsed": true
   },
   "outputs": [],
   "source": [
    "squares=[0,1,4,9,16,25] #list_name = [value1,value2,value3,...] \n",
    "print(squares)\n",
    "print(\"Length is:\",len(squares))"
   ]
  },
  {
   "cell_type": "code",
   "execution_count": null,
   "metadata": {
    "collapsed": true
   },
   "outputs": [],
   "source": [
    "print(squares[3])"
   ]
  },
  {
   "cell_type": "code",
   "execution_count": null,
   "metadata": {
    "collapsed": true
   },
   "outputs": [],
   "source": [
    "squares.append(36)\n",
    "print(squares)"
   ]
  },
  {
   "cell_type": "code",
   "execution_count": null,
   "metadata": {
    "collapsed": true
   },
   "outputs": [],
   "source": [
    "squares.append(\"forty-nine\")\n",
    "print(squares)"
   ]
  },
  {
   "cell_type": "code",
   "execution_count": null,
   "metadata": {
    "collapsed": true
   },
   "outputs": [],
   "source": [
    "squares.extend([64,81])\n",
    "print(squares)"
   ]
  },
  {
   "cell_type": "code",
   "execution_count": null,
   "metadata": {
    "collapsed": true
   },
   "outputs": [],
   "source": [
    "squares[7]=49\n",
    "print(squares)"
   ]
  },
  {
   "cell_type": "code",
   "execution_count": null,
   "metadata": {
    "collapsed": true
   },
   "outputs": [],
   "source": [
    "print(squares[0:3])"
   ]
  },
  {
   "cell_type": "code",
   "execution_count": null,
   "metadata": {
    "collapsed": true
   },
   "outputs": [],
   "source": [
    "4 in squares"
   ]
  },
  {
   "cell_type": "markdown",
   "metadata": {},
   "source": [
    "## Some other list methods"
   ]
  },
  {
   "cell_type": "markdown",
   "metadata": {},
   "source": [
    "1. list.index(x) \n",
    "2. list.count(x)\n",
    "3. list.insert(i,x)\n",
    "\n",
    "Link: https://docs.python.org/3/tutorial/datastructures.html "
   ]
  },
  {
   "cell_type": "code",
   "execution_count": null,
   "metadata": {
    "collapsed": true
   },
   "outputs": [],
   "source": [
    "L1 = [ 10, [20,21,22,23], 30, [40,41], 50 ]\n",
    "print(L1)"
   ]
  },
  {
   "cell_type": "code",
   "execution_count": null,
   "metadata": {
    "collapsed": true
   },
   "outputs": [],
   "source": [
    "print(L1[0])"
   ]
  },
  {
   "cell_type": "code",
   "execution_count": null,
   "metadata": {
    "collapsed": true
   },
   "outputs": [],
   "source": [
    "print(L1[1])"
   ]
  },
  {
   "cell_type": "code",
   "execution_count": null,
   "metadata": {
    "collapsed": true
   },
   "outputs": [],
   "source": [
    "print(L1[0][0]) # L1[0] gives us the first element of the list, which is an integer(10). Since integers cannot be \n",
    "                # indexed like a string or list, we get an error."
   ]
  },
  {
   "cell_type": "code",
   "execution_count": null,
   "metadata": {
    "collapsed": true
   },
   "outputs": [],
   "source": [
    "print(L1[1][0])"
   ]
  },
  {
   "cell_type": "markdown",
   "metadata": {},
   "source": [
    "## Input methods"
   ]
  },
  {
   "cell_type": "code",
   "execution_count": null,
   "metadata": {
    "collapsed": true
   },
   "outputs": [],
   "source": [
    "n1=input(\"Enter first number: \")\n",
    "n2=input(\"Enter second number: \")\n"
   ]
  },
  {
   "cell_type": "code",
   "execution_count": null,
   "metadata": {
    "collapsed": true
   },
   "outputs": [],
   "source": [
    "sum=n1+n2\n",
    "print(sum)\n"
   ]
  },
  {
   "cell_type": "code",
   "execution_count": null,
   "metadata": {
    "collapsed": true
   },
   "outputs": [],
   "source": [
    "a=int(n1)\n",
    "b=int(n2)\n",
    "sum=a+b\n",
    "print(sum)"
   ]
  },
  {
   "cell_type": "code",
   "execution_count": null,
   "metadata": {
    "collapsed": true
   },
   "outputs": [],
   "source": [
    "num='-3.15'\n",
    "pie=float(num)\n",
    "print(pie)"
   ]
  },
  {
   "cell_type": "markdown",
   "metadata": {},
   "source": [
    "## Short Assignment 1 : \n",
    "\n",
    "    Getting comfortable with list operations is important. Even though the problem can be concisely solved with the\n",
    "    use of for loop, since loops haven't been taught yet, you can solve it by a bunch of slicing statements instead.\n",
    "    \n",
    "    1. Take a string as input and print it explained by the example below. Given length of string is equal to 12.\n",
    "       \n",
    "       Example\n",
    "       --------\n",
    "       \n",
    "       Input : HelloWorlds!\n",
    "       \n",
    "       Output :\n",
    "       \n",
    "       HelloWorlds!\n",
    "       Hlools\n",
    "       Hlod\n",
    "       Hol\n",
    "       HWs\n",
    "       Ho\n",
    "       !sdlroWolleH\n",
    "       !drWle\n",
    "       !lWl\n",
    "       !rl\n",
    "       !oe\n",
    "       !W\n",
    "\n",
    "       \n",
    "    2. Take two strings as input and print it as explained by the example below.\n",
    "       Total sum length of both strings is 19.\n",
    "\n",
    "       Example\n",
    "       -------\n",
    "       \n",
    "       Input : string1 --> \"DireStraits\", string2 --> \"TheKinks\"\n",
    "       \n",
    "       Output :\n",
    "       \n",
    "       stiartSeriDskniKehT\n",
    "       sirSrDsih\n",
    "       stDs\n",
    "       srs\n",
    "       ss\n",
    "       \n",
    "       Input : string1 --> \"LedZeppelin\", string2 --> \"TheBeats\"\n",
    "       \n",
    "       Output :\n",
    "       \n",
    "       nileppeZdeLstaeBehT\n",
    "       nlpedLseh\n",
    "       npLs\n",
    "       nds\n",
    "       ns\n",
    "       \n",
    "       \n",
    "       Here is a sanity check for your technique. Make sure you are using the correct step in list[start\n",
    "       -----------------------------------------\n",
    "       Input : string1 --> \"Sachin\", string2 --> \"Dravid\"\n",
    "       \n",
    "       Output :\n",
    "       nihcaSdivarD\n",
    "       nhada\n",
    "       nSd\n",
    "       nd\n",
    "       nd \n",
    "      "
   ]
  },
  {
   "cell_type": "code",
   "execution_count": null,
   "metadata": {
    "collapsed": true
   },
   "outputs": [],
   "source": []
  }
 ],
 "metadata": {
  "kernelspec": {
   "display_name": "Python 3",
   "language": "python",
   "name": "python3"
  },
  "language_info": {
   "codemirror_mode": {
    "name": "ipython",
    "version": 3
   },
   "file_extension": ".py",
   "mimetype": "text/x-python",
   "name": "python",
   "nbconvert_exporter": "python",
   "pygments_lexer": "ipython3",
   "version": "3.6.1"
  }
 },
 "nbformat": 4,
 "nbformat_minor": 2
}
